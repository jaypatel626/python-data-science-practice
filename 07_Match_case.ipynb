{
 "cells": [
  {
   "cell_type": "markdown",
   "id": "3f7eb858-fe92-468b-831d-0feaadc4a630",
   "metadata": {},
   "source": [
    " \n",
    "# Match-Case in Python\n",
    "\n",
    "The `match-case` statement, introduced in Python 3.10, provides pattern matching similar to `switch` statements in other languages.\n",
    "\n",
    "## Syntax\n",
    "\n",
    "```python\n",
    "def http_status(code):\n",
    "    match code:\n",
    "        case 200:\n",
    "            return \"OK\"\n",
    "        case 400:\n",
    "            return \"Bad Request\"\n",
    "        case 404:\n",
    "            return \"Not Found\"\n",
    "        case 500:\n",
    "            return \"Internal Server Error\"\n",
    "        case _:\n",
    "            return \"Unknown Status\"\n",
    "\n",
    "print(http_status(200))  # Output: OK\n",
    "print(http_status(404))  # Output: Not Found\n",
    "```\n",
    "\n",
    "## Features:\n",
    "- The `_` (underscore) acts as a default case.\n",
    "- Patterns can include literals, variable bindings, and even structural patterns.\n",
    "\n",
    "## Example: Matching Data Structures\n",
    "\n",
    "```python\n",
    "point = (3, 4)\n",
    "\n",
    "match point:\n",
    "    case (0, 0):\n",
    "        print(\"Origin\")\n",
    "    case (x, 0):\n",
    "        print(f\"X-Axis at {x}\")\n",
    "    case (0, y):\n",
    "        print(f\"Y-Axis at {y}\")\n",
    "    case (x, y):\n",
    "        print(f\"Point at ({x}, {y})\")\n",
    "```\n",
    " "
   ]
  },
  {
   "cell_type": "code",
   "execution_count": 5,
   "id": "6dd801d2-b7c0-441d-b6fb-02ba9afbe968",
   "metadata": {},
   "outputs": [
    {
     "name": "stdout",
     "output_type": "stream",
     "text": [
      "X-Axis at 3\n"
     ]
    }
   ],
   "source": [
    "point = (3, 0)\n",
    "\n",
    "match point:\n",
    "    case (0, 0):\n",
    "        print(\"Origin\")\n",
    "    case (x, 0):\n",
    "        print(f\"X-Axis at {x}\")\n",
    "    case (0, y):\n",
    "        print(f\"Y-Axis at {y}\")\n",
    "    case (x, y):\n",
    "        print(f\"Point at ({x}, {y})\")"
   ]
  },
  {
   "cell_type": "code",
   "execution_count": 20,
   "id": "647b0230-4933-4774-ac93-9f97566ced99",
   "metadata": {},
   "outputs": [
    {
     "name": "stdout",
     "output_type": "stream",
     "text": [
      "bigger than 150\n",
      "code is done\n"
     ]
    }
   ],
   "source": [
    "def check_value(code):\n",
    "    match code:\n",
    "        case 100:\n",
    "            return \"less value than 150\"\n",
    "        case 150:\n",
    "            return \"perfect matched\"\n",
    "        case 200:\n",
    "            return \"bigger than 150\"\n",
    "        case _:\n",
    "            return \"unknown value\"\n",
    "\n",
    "print(check_value(200))  \n",
    "print(\"code is done\")\n"
   ]
  },
  {
   "cell_type": "code",
   "execution_count": 24,
   "id": "85770932-32a6-4978-9519-d63f9f71d344",
   "metadata": {},
   "outputs": [
    {
     "name": "stdout",
     "output_type": "stream",
     "text": [
      "y-Axis at 4\n"
     ]
    }
   ],
   "source": [
    "point = (0,4)\n",
    "match point:\n",
    "    case (0,0):\n",
    "        print(\"Oringinal\")\n",
    "    case(x,0):\n",
    "        print(f\"x-Axis at {x}\")\n",
    "    case(0,y):\n",
    "        print(f\"y-Axis at {y}\")\n",
    "    case(x,y):\n",
    "        print(f\"x-Axis at {x} and y-Axis at {y}\")"
   ]
  }
 ],
 "metadata": {
  "kernelspec": {
   "display_name": "Python [conda env:base] *",
   "language": "python",
   "name": "conda-base-py"
  },
  "language_info": {
   "codemirror_mode": {
    "name": "ipython",
    "version": 3
   },
   "file_extension": ".py",
   "mimetype": "text/x-python",
   "name": "python",
   "nbconvert_exporter": "python",
   "pygments_lexer": "ipython3",
   "version": "3.13.5"
  }
 },
 "nbformat": 4,
 "nbformat_minor": 5
}
