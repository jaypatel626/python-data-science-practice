{
 "cells": [
  {
   "cell_type": "markdown",
   "id": "6245d64c-3d6f-4391-b8b0-76108dde787a",
   "metadata": {},
   "source": [
    "# Python `json` Module – Working with JSON Data\n",
    "\n",
    "## What is JSON?\n",
    "JSON (**JavaScript Object Notation**) is a lightweight data format used for data exchange between servers and applications. It is widely used in **APIs, web applications, and configurations**.\n",
    "\n",
    "Python provides the `json` module to work with JSON data.\n",
    "\n",
    "---\n",
    "\n",
    "## Importing the JSON Module\n",
    "```python\n",
    "import json\n",
    "```\n",
    "\n",
    "---\n",
    "\n",
    "## Converting Python Objects to JSON (Serialization)\n",
    "Serialization (also called **encoding or dumping**) is converting a Python object into a JSON-formatted string.\n",
    "\n",
    "### **`json.dumps()`** – Convert Python object to JSON string\n",
    "```python\n",
    "import json\n",
    "\n",
    "data = {\"name\": \"Alice\", \"age\": 25, \"city\": \"New York\"}\n",
    "\n",
    "json_string = json.dumps(data)\n",
    "print(json_string)  # Output: {\"name\": \"Alice\", \"age\": 25, \"city\": \"New York\"}\n",
    "print(type(json_string))  # <class 'str'>\n",
    "```\n",
    "\n",
    "### **`json.dump()`** – Write JSON data to a file\n",
    "```python\n",
    "with open(\"data.json\", \"w\") as file:\n",
    "    json.dump(data, file)\n",
    "```\n",
    "\n",
    "---\n",
    "\n",
    "## Converting JSON to Python Objects (Deserialization)\n",
    "Deserialization (also called **decoding or loading**) is converting JSON-formatted data into Python objects.\n",
    "\n",
    "### **`json.loads()`** – Convert JSON string to Python object\n",
    "```python\n",
    "json_data = '{\"name\": \"Alice\", \"age\": 25, \"city\": \"New York\"}'\n",
    "\n",
    "python_obj = json.loads(json_data)\n",
    "print(python_obj)  # Output: {'name': 'Alice', 'age': 25, 'city': 'New York'}\n",
    "print(type(python_obj))  # <class 'dict'>\n",
    "```\n",
    "\n",
    "### **`json.load()`** – Read JSON data from a file\n",
    "```python\n",
    "with open(\"data.json\", \"r\") as file:\n",
    "    python_data = json.load(file)\n",
    "\n",
    "print(python_data)  # Output: {'name': 'Alice', 'age': 25, 'city': 'New York'}\n",
    "```\n",
    "\n",
    "---\n",
    "\n",
    "## Formatting JSON Output\n",
    "You can format JSON for better readability using **indentation**.\n",
    "\n",
    "```python\n",
    "formatted_json = json.dumps(data, indent=4)\n",
    "print(formatted_json)\n",
    "```\n",
    "**Output:**\n",
    "```json\n",
    "{\n",
    "    \"name\": \"Alice\",\n",
    "    \"age\": 25,\n",
    "    \"city\": \"New York\"\n",
    "}\n",
    "```\n",
    "\n",
    "---\n",
    "\n",
    "## Summary of Common JSON Methods\n",
    "\n",
    "| Method | Description | Example |\n",
    "|--------|------------|---------|\n",
    "| `json.dumps(obj)` | Converts Python object to JSON string | `json.dumps(data)` |\n",
    "| `json.dump(obj, file)` | Writes JSON to a file | `json.dump(data, file)` |\n",
    "| `json.loads(json_string)` | Converts JSON string to Python object | `json.loads(json_data)` |\n",
    "| `json.load(file)` | Reads JSON from a file | `json.load(file)` |\n",
    "\n",
    " "
   ]
  },
  {
   "cell_type": "code",
   "execution_count": 1,
   "id": "1f71f072-19cc-4f90-95b3-a8150976ec5f",
   "metadata": {},
   "outputs": [],
   "source": [
    "import json"
   ]
  },
  {
   "cell_type": "code",
   "execution_count": 2,
   "id": "06e54c13-f32c-4eef-8a89-8f44f4e84c38",
   "metadata": {},
   "outputs": [
    {
     "name": "stdout",
     "output_type": "stream",
     "text": [
      "{\"name\": \"Alice\", \"company\": \"IBM\", \"salary\": 45000}\n"
     ]
    }
   ],
   "source": [
    "obj = {\"name\": \"Alice\", \"company\": \"IBM\", \"salary\": 45000}\n",
    "s = json.dumps(obj)\n",
    "type(s)\n",
    "print(s)"
   ]
  },
  {
   "cell_type": "code",
   "execution_count": 3,
   "id": "01909d6b-70c8-4026-8ae3-25be2aaf9db0",
   "metadata": {},
   "outputs": [],
   "source": [
    "d = json.loads('{\"name\": \"Alice\", \"company\": \"IBM\", \"salary\": 45000}')"
   ]
  },
  {
   "cell_type": "code",
   "execution_count": 4,
   "id": "50df4a3d-1829-4058-bd98-ed1cf44e76de",
   "metadata": {},
   "outputs": [
    {
     "data": {
      "text/plain": [
       "dict"
      ]
     },
     "execution_count": 4,
     "metadata": {},
     "output_type": "execute_result"
    }
   ],
   "source": [
    "type(d)"
   ]
  },
  {
   "cell_type": "code",
   "execution_count": 5,
   "id": "d7d49e84-9ef4-4260-b4aa-a3052f245150",
   "metadata": {},
   "outputs": [],
   "source": [
    "file = open(\"data.json\", \"w\")"
   ]
  },
  {
   "cell_type": "code",
   "execution_count": 6,
   "id": "4b3c91b5-f4e8-45c3-a546-d590ca59dfd1",
   "metadata": {},
   "outputs": [],
   "source": [
    "json.dump(obj, file)"
   ]
  },
  {
   "cell_type": "code",
   "execution_count": 7,
   "id": "58b855fc-95e2-45cf-b24f-0e3f95117582",
   "metadata": {},
   "outputs": [],
   "source": [
    "file.close()"
   ]
  },
  {
   "cell_type": "code",
   "execution_count": 9,
   "id": "6f26f792-302d-4ea6-9bee-32027367105b",
   "metadata": {},
   "outputs": [],
   "source": [
    "data = {\"name\":\"Alice\" , \"city\":\"landon\"}"
   ]
  },
  {
   "cell_type": "code",
   "execution_count": 10,
   "id": "2da5ab6a-dcdb-4536-9db8-d052cfce5213",
   "metadata": {},
   "outputs": [],
   "source": [
    "with open(\"data.json\", \"w\") as file:\n",
    "    json.dump(data, file)"
   ]
  },
  {
   "cell_type": "code",
   "execution_count": 11,
   "id": "d62759c3-e172-400a-88c5-a566a838ca80",
   "metadata": {},
   "outputs": [
    {
     "name": "stdout",
     "output_type": "stream",
     "text": [
      "{'name': 'Alice', 'city': 'landon'}\n"
     ]
    }
   ],
   "source": [
    "print(data)"
   ]
  },
  {
   "cell_type": "code",
   "execution_count": 12,
   "id": "9ab15e9c-1704-4237-b4f5-4a39437d4424",
   "metadata": {},
   "outputs": [
    {
     "name": "stdout",
     "output_type": "stream",
     "text": [
      "{'name': 'Alice', 'city': 'landon'}\n"
     ]
    }
   ],
   "source": [
    "# Read the JSON file back into a Python object\n",
    "with open(\"data.json\", \"r\") as file:\n",
    "    loaded_data = json.load(file)\n",
    "\n",
    "print(loaded_data)\n"
   ]
  },
  {
   "cell_type": "code",
   "execution_count": 13,
   "id": "ed0177cd-f240-49fe-8e46-bc487c66d58c",
   "metadata": {},
   "outputs": [],
   "source": [
    "ob = {\"Name\":\"Jay\", \"city\":\"ahmedabad\"}\n",
    "e = json.dumps(ob)"
   ]
  },
  {
   "cell_type": "code",
   "execution_count": 14,
   "id": "0ff1006d-bdda-4d36-80e2-b95cfc47eafc",
   "metadata": {},
   "outputs": [
    {
     "name": "stdout",
     "output_type": "stream",
     "text": [
      "{\"Name\": \"Jay\", \"city\": \"ahmedabad\"}\n"
     ]
    }
   ],
   "source": [
    "print(e)"
   ]
  },
  {
   "cell_type": "code",
   "execution_count": 15,
   "id": "4ab9dde8-a4fe-430f-b43b-e1f701e4e914",
   "metadata": {},
   "outputs": [
    {
     "data": {
      "text/plain": [
       "str"
      ]
     },
     "execution_count": 15,
     "metadata": {},
     "output_type": "execute_result"
    }
   ],
   "source": [
    "type(e)"
   ]
  },
  {
   "cell_type": "code",
   "execution_count": 18,
   "id": "978ef64d-62eb-4f8b-8df0-cf0c92ae6852",
   "metadata": {},
   "outputs": [],
   "source": [
    "e = json.loads('{\"Name\": \"Jay\", \"city\": \"ahmedabad\"}')"
   ]
  },
  {
   "cell_type": "code",
   "execution_count": 20,
   "id": "34113238-0f32-4040-bd60-6f1932fd5cf9",
   "metadata": {},
   "outputs": [
    {
     "name": "stdout",
     "output_type": "stream",
     "text": [
      "{'Name': 'Jay', 'city': 'ahmedabad'}\n"
     ]
    }
   ],
   "source": [
    "type(e)\n",
    "print(e)"
   ]
  },
  {
   "cell_type": "code",
   "execution_count": null,
   "id": "4d423443-7e7a-4de5-a373-ee59d8b8f3c5",
   "metadata": {},
   "outputs": [],
   "source": []
  }
 ],
 "metadata": {
  "kernelspec": {
   "display_name": "Python [conda env:base] *",
   "language": "python",
   "name": "conda-base-py"
  },
  "language_info": {
   "codemirror_mode": {
    "name": "ipython",
    "version": 3
   },
   "file_extension": ".py",
   "mimetype": "text/x-python",
   "name": "python",
   "nbconvert_exporter": "python",
   "pygments_lexer": "ipython3",
   "version": "3.13.5"
  }
 },
 "nbformat": 4,
 "nbformat_minor": 5
}
